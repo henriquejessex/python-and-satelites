{
 "cells": [
  {
   "cell_type": "markdown",
   "id": "59f0a322",
   "metadata": {},
   "source": [
    "|Created bounding box"
   ]
  },
  {
   "cell_type": "code",
   "execution_count": 1,
   "id": "071bcd38",
   "metadata": {},
   "outputs": [],
   "source": [
    "geojson_geometry = {\n",
    "    \"type\": \"Polygon\",\n",
    "    \"coordinates\":  [\n",
    "        [\n",
    "            [-47.42813554632008,-22.451060725842694],\n",
    "            [-47.42813554632008,-22.477697748323862],\n",
    "            [-47.410670583298526,-22.477697748323862],\n",
    "            [-47.410670583298526,-22.451060725842694],\n",
    "            [-47.42813554632008,-22.451060725842694]\n",
    "        ]\n",
    "    ]\n",
    "}"
   ]
  },
  {
   "cell_type": "code",
   "execution_count": 1,
   "id": "938bcd3a",
   "metadata": {},
   "outputs": [
    {
     "ename": "KeyboardInterrupt",
     "evalue": "",
     "output_type": "error",
     "traceback": [
      "\u001b[0;31m---------------------------------------------------------------------------\u001b[0m",
      "\u001b[0;31mKeyboardInterrupt\u001b[0m                         Traceback (most recent call last)",
      "\u001b[0;32m/usr/lib/python3/dist-packages/IPython/core/async_helpers.py\u001b[0m in \u001b[0;36m_pseudo_sync_runner\u001b[0;34m(coro)\u001b[0m\n\u001b[1;32m     76\u001b[0m     \"\"\"\n\u001b[1;32m     77\u001b[0m     \u001b[0;32mtry\u001b[0m\u001b[0;34m:\u001b[0m\u001b[0;34m\u001b[0m\u001b[0;34m\u001b[0m\u001b[0m\n\u001b[0;32m---> 78\u001b[0;31m         \u001b[0mcoro\u001b[0m\u001b[0;34m.\u001b[0m\u001b[0msend\u001b[0m\u001b[0;34m(\u001b[0m\u001b[0;32mNone\u001b[0m\u001b[0;34m)\u001b[0m\u001b[0;34m\u001b[0m\u001b[0;34m\u001b[0m\u001b[0m\n\u001b[0m\u001b[1;32m     79\u001b[0m     \u001b[0;32mexcept\u001b[0m \u001b[0mStopIteration\u001b[0m \u001b[0;32mas\u001b[0m \u001b[0mexc\u001b[0m\u001b[0;34m:\u001b[0m\u001b[0;34m\u001b[0m\u001b[0;34m\u001b[0m\u001b[0m\n\u001b[1;32m     80\u001b[0m         \u001b[0;32mreturn\u001b[0m \u001b[0mexc\u001b[0m\u001b[0;34m.\u001b[0m\u001b[0mvalue\u001b[0m\u001b[0;34m\u001b[0m\u001b[0;34m\u001b[0m\u001b[0m\n",
      "\u001b[0;32m/usr/lib/python3/dist-packages/IPython/core/interactiveshell.py\u001b[0m in \u001b[0;36mrun_cell_async\u001b[0;34m(self, raw_cell, store_history, silent, shell_futures, transformed_cell, preprocessing_exc_tuple)\u001b[0m\n\u001b[1;32m   3106\u001b[0m         \u001b[0;31m# Store raw and processed history\u001b[0m\u001b[0;34m\u001b[0m\u001b[0;34m\u001b[0m\u001b[0m\n\u001b[1;32m   3107\u001b[0m         \u001b[0;32mif\u001b[0m \u001b[0mstore_history\u001b[0m\u001b[0;34m:\u001b[0m\u001b[0;34m\u001b[0m\u001b[0;34m\u001b[0m\u001b[0m\n\u001b[0;32m-> 3108\u001b[0;31m             self.history_manager.store_inputs(self.execution_count,\n\u001b[0m\u001b[1;32m   3109\u001b[0m                                               cell, raw_cell)\n\u001b[1;32m   3110\u001b[0m         \u001b[0;32mif\u001b[0m \u001b[0;32mnot\u001b[0m \u001b[0msilent\u001b[0m\u001b[0;34m:\u001b[0m\u001b[0;34m\u001b[0m\u001b[0;34m\u001b[0m\u001b[0m\n",
      "\u001b[0;32m/usr/lib/python3/dist-packages/IPython/core/history.py\u001b[0m in \u001b[0;36mstore_inputs\u001b[0;34m(self, line_num, source, source_raw)\u001b[0m\n\u001b[1;32m    717\u001b[0m         \u001b[0mself\u001b[0m\u001b[0;34m.\u001b[0m\u001b[0minput_hist_raw\u001b[0m\u001b[0;34m.\u001b[0m\u001b[0mappend\u001b[0m\u001b[0;34m(\u001b[0m\u001b[0msource_raw\u001b[0m\u001b[0;34m)\u001b[0m\u001b[0;34m\u001b[0m\u001b[0;34m\u001b[0m\u001b[0m\n\u001b[1;32m    718\u001b[0m \u001b[0;34m\u001b[0m\u001b[0m\n\u001b[0;32m--> 719\u001b[0;31m         \u001b[0;32mwith\u001b[0m \u001b[0mself\u001b[0m\u001b[0;34m.\u001b[0m\u001b[0mdb_input_cache_lock\u001b[0m\u001b[0;34m:\u001b[0m\u001b[0;34m\u001b[0m\u001b[0;34m\u001b[0m\u001b[0m\n\u001b[0m\u001b[1;32m    720\u001b[0m             \u001b[0mself\u001b[0m\u001b[0;34m.\u001b[0m\u001b[0mdb_input_cache\u001b[0m\u001b[0;34m.\u001b[0m\u001b[0mappend\u001b[0m\u001b[0;34m(\u001b[0m\u001b[0;34m(\u001b[0m\u001b[0mline_num\u001b[0m\u001b[0;34m,\u001b[0m \u001b[0msource\u001b[0m\u001b[0;34m,\u001b[0m \u001b[0msource_raw\u001b[0m\u001b[0;34m)\u001b[0m\u001b[0;34m)\u001b[0m\u001b[0;34m\u001b[0m\u001b[0;34m\u001b[0m\u001b[0m\n\u001b[1;32m    721\u001b[0m             \u001b[0;31m# Trigger to flush cache and write to DB.\u001b[0m\u001b[0;34m\u001b[0m\u001b[0;34m\u001b[0m\u001b[0m\n",
      "\u001b[0;31mKeyboardInterrupt\u001b[0m: "
     ]
    }
   ],
   "source": [
    "# get images that overlap with our AOI \n",
    "geometry_filter = {\n",
    "  \"type\": \"GeometryFilter\",\n",
    "  \"field_name\": \"geometry\",\n",
    "  \"config\": geojson_geometry\n",
    "}"
   ]
  },
  {
   "cell_type": "code",
   "execution_count": null,
   "id": "eaffebd8",
   "metadata": {},
   "outputs": [],
   "source": [
    "# get images acquired within a date range\n",
    "date_range_filter = {\n",
    "  \"type\": \"DateRangeFilter\",\n",
    "  \"field_name\": \"acquired\",\n",
    "  \"config\": {\n",
    "    \"gte\": \"2017-08-31T00:00:00.000Z\",\n",
    "    \"lte\": \"2017-09-01T00:00:00.000Z\"\n",
    "  }\n",
    "}"
   ]
  },
  {
   "cell_type": "code",
   "execution_count": null,
   "id": "4e4582bb",
   "metadata": {},
   "outputs": [],
   "source": [
    "# only get images which have <50% cloud coverage\n",
    "cloud_cover_filter = {\n",
    "  \"type\": \"RangeFilter\",\n",
    "  \"field_name\": \"cloud_cover\",\n",
    "  \"config\": {\n",
    "    \"lte\": 0.5\n",
    "  }\n",
    "}"
   ]
  },
  {
   "cell_type": "code",
   "execution_count": null,
   "id": "52f93cfa",
   "metadata": {},
   "outputs": [],
   "source": [
    "# combine our geo, date, cloud filters\n",
    "combined_filter = {\n",
    "  \"type\": \"AndFilter\",\n",
    "  \"config\": [geometry_filter, date_range_filter, cloud_cover_filter]\n",
    "}"
   ]
  },
  {
   "cell_type": "code",
   "execution_count": null,
   "id": "8463a019",
   "metadata": {},
   "outputs": [],
   "source": [
    "\n",
    "import os\n",
    "\n",
    "# if your Planet API Key is not set as an environment variable, you can paste it below\n",
    "if os.environ.get('PL_API_KEY', ''):\n",
    "    API_KEY = os.environ.get('PL_API_KEY', '')\n",
    "else:\n",
    "    API_KEY = 'PLAKcaa4ce6cd0464a058d71353bf2bca50b'"
   ]
  },
  {
   "cell_type": "code",
   "execution_count": null,
   "id": "b0928dba",
   "metadata": {},
   "outputs": [
    {
     "name": "stdout",
     "output_type": "stream",
     "text": [
      "{'_links': {'_self': 'https://api.planet.com/data/v1/item-types/PSScene/items/20170831_123632_0f35', 'assets': 'https://api.planet.com/data/v1/item-types/PSScene/items/20170831_123632_0f35/assets/', 'thumbnail': 'https://tiles.planet.com/data/v1/item-types/PSScene/items/20170831_123632_0f35/thumb'}, '_permissions': [], 'assets': ['basic_analytic_4b', 'basic_analytic_4b_rpc', 'basic_analytic_4b_xml', 'basic_udm2', 'ortho_analytic_3b', 'ortho_analytic_3b_xml', 'ortho_analytic_4b', 'ortho_analytic_4b_sr', 'ortho_analytic_4b_xml', 'ortho_udm2', 'ortho_visual'], 'geometry': {'coordinates': [[[-47.47615244795111, -22.372967593987035], [-47.492771651772884, -22.44800112845778], [-47.24280931989658, -22.49495353375397], [-47.22674507870009, -22.419647095359334], [-47.47615244795111, -22.372967593987035]]], 'type': 'Polygon'}, 'id': '20170831_123632_0f35', 'properties': {'acquired': '2017-08-31T12:36:32.403774Z', 'anomalous_pixels': 0.01, 'clear_confidence_percent': 97, 'clear_percent': 98, 'cloud_cover': 0.01, 'cloud_percent': 0, 'ground_control': True, 'gsd': 4, 'heavy_haze_percent': 1, 'instrument': 'PS2', 'item_type': 'PSScene', 'light_haze_percent': 1, 'pixel_resolution': 3, 'provider': 'planetscope', 'published': '2021-02-14T15:27:46Z', 'publishing_stage': 'finalized', 'quality_category': 'standard', 'satellite_azimuth': 283.6, 'satellite_id': '0f35', 'shadow_percent': 0, 'snow_ice_percent': 0, 'strip_id': '724414', 'sun_azimuth': 55, 'sun_elevation': 41.4, 'updated': '2023-07-13T00:09:03Z', 'view_angle': 1.7, 'visible_confidence_percent': 70, 'visible_percent': 99}, 'type': 'Feature'}\n"
     ]
    }
   ],
   "source": [
    "import json\n",
    "import requests\n",
    "from requests.auth import HTTPBasicAuth\n",
    "\n",
    "item_type = \"PSScene\"\n",
    "\n",
    "# API request object\n",
    "search_request = {\n",
    "  \"item_types\": [item_type], \n",
    "  \"filter\": combined_filter\n",
    "}\n",
    "\n",
    "# fire off the POST request\n",
    "search_result = \\\n",
    "  requests.post(\n",
    "    'https://api.planet.com/data/v1/quick-search',\n",
    "    auth=HTTPBasicAuth(API_KEY, ''),\n",
    "    json=search_request)\n",
    "\n",
    "geojson = search_result.json()\n",
    "\n",
    "# let's look at the first result\n",
    "print(list(geojson.items())[1][1][0])"
   ]
  },
  {
   "cell_type": "code",
   "execution_count": null,
   "id": "2bfa7632",
   "metadata": {},
   "outputs": [
    {
     "name": "stdout",
     "output_type": "stream",
     "text": [
      "{\n",
      " \"_links\": {\n",
      "  \"_first\": \"https://api.planet.com/data/v1/searches/db5346baf9864e1db7eb8d82202a6752/results?_page=eyJwYWdlX3NpemUiOiAyNTAsICJzb3J0X2J5IjogInB1Ymxpc2hlZCIsICJzb3J0X2Rlc2MiOiB0cnVlLCAic29ydF9zdGFydCI6IG51bGwsICJzb3J0X2xhc3RfaWQiOiBudWxsLCAic29ydF9wcmV2IjogZmFsc2UsICJxdWVyeV9wYXJhbXMiOiB7fX0%3D\",\n",
      "  \"_next\": \"https://api.planet.com/data/v1/searches/db5346baf9864e1db7eb8d82202a6752/results?_page=eyJwYWdlX3NpemUiOiAyNTAsICJzb3J0X2J5IjogInB1Ymxpc2hlZCIsICJzb3J0X2Rlc2MiOiB0cnVlLCAic29ydF9zdGFydCI6ICIyMDIxLTAyLTE0VDE1OjI3OjQ1LjAwMDAwMFoiLCAic29ydF9sYXN0X2lkIjogIjIwMTcwODMxXzEyMzYzM18wZjM1IiwgInNvcnRfcHJldiI6IGZhbHNlLCAicXVlcnlfcGFyYW1zIjoge319\",\n",
      "  \"_self\": \"https://api.planet.com/data/v1/searches/db5346baf9864e1db7eb8d82202a6752/results?_page=eyJwYWdlX3NpemUiOiAyNTAsICJzb3J0X2J5IjogInB1Ymxpc2hlZCIsICJzb3J0X2Rlc2MiOiB0cnVlLCAic29ydF9zdGFydCI6IG51bGwsICJzb3J0X2xhc3RfaWQiOiBudWxsLCAic29ydF9wcmV2IjogZmFsc2UsICJxdWVyeV9wYXJhbXMiOiB7fX0%3D\"\n",
      " },\n",
      " \"features\": [\n",
      "  {\n",
      "   \"_links\": {\n",
      "    \"_self\": \"https://api.planet.com/data/v1/item-types/PSScene/items/20170831_123632_0f35\",\n",
      "    \"assets\": \"https://api.planet.com/data/v1/item-types/PSScene/items/20170831_123632_0f35/assets/\",\n",
      "    \"thumbnail\": \"https://tiles.planet.com/data/v1/item-types/PSScene/items/20170831_123632_0f35/thumb\"\n",
      "   },\n",
      "   \"_permissions\": [],\n",
      "   \"assets\": [\n",
      "    \"basic_analytic_4b\",\n",
      "    \"basic_analytic_4b_rpc\",\n",
      "    \"basic_analytic_4b_xml\",\n",
      "    \"basic_udm2\",\n",
      "    \"ortho_analytic_3b\",\n",
      "    \"ortho_analytic_3b_xml\",\n",
      "    \"ortho_analytic_4b\",\n",
      "    \"ortho_analytic_4b_sr\",\n",
      "    \"ortho_analytic_4b_xml\",\n",
      "    \"ortho_udm2\",\n",
      "    \"ortho_visual\"\n",
      "   ],\n",
      "   \"geometry\": {\n",
      "    \"coordinates\": [\n",
      "     [\n",
      "      [\n",
      "       -47.47615244795111,\n",
      "       -22.372967593987035\n",
      "      ],\n",
      "      [\n",
      "       -47.492771651772884,\n",
      "       -22.44800112845778\n",
      "      ],\n",
      "      [\n",
      "       -47.24280931989658,\n",
      "       -22.49495353375397\n",
      "      ],\n",
      "      [\n",
      "       -47.22674507870009,\n",
      "       -22.419647095359334\n",
      "      ],\n",
      "      [\n",
      "       -47.47615244795111,\n",
      "       -22.372967593987035\n",
      "      ]\n",
      "     ]\n",
      "    ],\n",
      "    \"type\": \"Polygon\"\n",
      "   },\n",
      "   \"id\": \"20170831_123632_0f35\",\n",
      "   \"properties\": {\n",
      "    \"acquired\": \"2017-08-31T12:36:32.403774Z\",\n",
      "    \"anomalous_pixels\": 0.01,\n",
      "    \"clear_confidence_percent\": 97,\n",
      "    \"clear_percent\": 98,\n",
      "    \"cloud_cover\": 0.01,\n",
      "    \"cloud_percent\": 0,\n",
      "    \"ground_control\": true,\n",
      "    \"gsd\": 4,\n",
      "    \"heavy_haze_percent\": 1,\n",
      "    \"instrument\": \"PS2\",\n",
      "    \"item_type\": \"PSScene\",\n",
      "    \"light_haze_percent\": 1,\n",
      "    \"pixel_resolution\": 3,\n",
      "    \"provider\": \"planetscope\",\n",
      "    \"published\": \"2021-02-14T15:27:46Z\",\n",
      "    \"publishing_stage\": \"finalized\",\n",
      "    \"quality_category\": \"standard\",\n",
      "    \"satellite_azimuth\": 283.6,\n",
      "    \"satellite_id\": \"0f35\",\n",
      "    \"shadow_percent\": 0,\n",
      "    \"snow_ice_percent\": 0,\n",
      "    \"strip_id\": \"724414\",\n",
      "    \"sun_azimuth\": 55,\n",
      "    \"sun_elevation\": 41.4,\n",
      "    \"updated\": \"2023-07-13T00:09:03Z\",\n",
      "    \"view_angle\": 1.7,\n",
      "    \"visible_confidence_percent\": 70,\n",
      "    \"visible_percent\": 99\n",
      "   },\n",
      "   \"type\": \"Feature\"\n",
      "  },\n",
      "  {\n",
      "   \"_links\": {\n",
      "    \"_self\": \"https://api.planet.com/data/v1/item-types/PSScene/items/20170831_123633_0f35\",\n",
      "    \"assets\": \"https://api.planet.com/data/v1/item-types/PSScene/items/20170831_123633_0f35/assets/\",\n",
      "    \"thumbnail\": \"https://tiles.planet.com/data/v1/item-types/PSScene/items/20170831_123633_0f35/thumb\"\n",
      "   },\n",
      "   \"_permissions\": [],\n",
      "   \"assets\": [\n",
      "    \"basic_analytic_4b\",\n",
      "    \"basic_analytic_4b_rpc\",\n",
      "    \"basic_analytic_4b_xml\",\n",
      "    \"basic_udm2\",\n",
      "    \"ortho_analytic_3b\",\n",
      "    \"ortho_analytic_3b_xml\",\n",
      "    \"ortho_analytic_4b\",\n",
      "    \"ortho_analytic_4b_sr\",\n",
      "    \"ortho_analytic_4b_xml\",\n",
      "    \"ortho_udm2\",\n",
      "    \"ortho_visual\"\n",
      "   ],\n",
      "   \"geometry\": {\n",
      "    \"coordinates\": [\n",
      "     [\n",
      "      [\n",
      "       -47.49061796819484,\n",
      "       -22.43760411870987\n",
      "      ],\n",
      "      [\n",
      "       -47.50724904681535,\n",
      "       -22.51264469749812\n",
      "      ],\n",
      "      [\n",
      "       -47.25709737832469,\n",
      "       -22.559603579277645\n",
      "      ],\n",
      "      [\n",
      "       -47.24109521770308,\n",
      "       -22.484283568460334\n",
      "      ],\n",
      "      [\n",
      "       -47.49061796819484,\n",
      "       -22.43760411870987\n",
      "      ]\n",
      "     ]\n",
      "    ],\n",
      "    \"type\": \"Polygon\"\n",
      "   },\n",
      "   \"id\": \"20170831_123633_0f35\",\n",
      "   \"properties\": {\n",
      "    \"acquired\": \"2017-08-31T12:36:33.448607Z\",\n",
      "    \"anomalous_pixels\": 0.01,\n",
      "    \"cloud_cover\": 0,\n",
      "    \"ground_control\": true,\n",
      "    \"gsd\": 4,\n",
      "    \"instrument\": \"PS2\",\n",
      "    \"item_type\": \"PSScene\",\n",
      "    \"pixel_resolution\": 3,\n",
      "    \"provider\": \"planetscope\",\n",
      "    \"published\": \"2021-02-14T15:27:45Z\",\n",
      "    \"publishing_stage\": \"finalized\",\n",
      "    \"quality_category\": \"standard\",\n",
      "    \"satellite_azimuth\": 283.1,\n",
      "    \"satellite_id\": \"0f35\",\n",
      "    \"strip_id\": \"724414\",\n",
      "    \"sun_azimuth\": 54.9,\n",
      "    \"sun_elevation\": 41.3,\n",
      "    \"updated\": \"2021-02-14T15:27:45Z\",\n",
      "    \"view_angle\": 1.7\n",
      "   },\n",
      "   \"type\": \"Feature\"\n",
      "  }\n",
      " ],\n",
      " \"type\": \"FeatureCollection\"\n",
      "}\n"
     ]
    }
   ],
   "source": [
    "# let's look at the first result\n",
    "print(json.dumps(search_result.json(), indent=1))"
   ]
  },
  {
   "cell_type": "code",
   "execution_count": null,
   "id": "f187d927",
   "metadata": {},
   "outputs": [
    {
     "name": "stdout",
     "output_type": "stream",
     "text": [
      "['20170831_123632_0f35', '20170831_123633_0f35']\n"
     ]
    }
   ],
   "source": [
    "# extract image IDs only\n",
    "image_ids = [feature['id'] for feature in geojson['features']]\n",
    "print(image_ids)"
   ]
  },
  {
   "cell_type": "code",
   "execution_count": null,
   "metadata": {},
   "outputs": [
    {
     "name": "stdout",
     "output_type": "stream",
     "text": [
      "dict_keys([])\n"
     ]
    }
   ],
   "source": [
    "# For demo purposes, just grab the first image ID\n",
    "id0 = image_ids[0]\n",
    "id0_url = 'https://api.planet.com/data/v1/item-types/{}/items/{}/assets'.format(item_type, id0)\n",
    "\n",
    "# Returns JSON metadata for assets in this ID. Learn more: planet.com/docs/reference/data-api/items-assets/#asset\n",
    "result = \\\n",
    "  requests.get(\n",
    "    id0_url,\n",
    "    auth=HTTPBasicAuth(API_KEY, '')\n",
    "  )\n",
    "\n",
    "# List of asset types available for this particular satellite image\n",
    "print(result.json().keys())"
   ]
  },
  {
   "cell_type": "code",
   "execution_count": null,
   "id": "79d69c75",
   "metadata": {},
   "outputs": [
    {
     "ename": "KeyError",
     "evalue": "'ortho_analytic_4b'",
     "output_type": "error",
     "traceback": [
      "\u001b[0;31m---------------------------------------------------------------------------\u001b[0m",
      "\u001b[0;31mKeyError\u001b[0m                                  Traceback (most recent call last)",
      "\u001b[0;32m/tmp/ipykernel_59322/1777985653.py\u001b[0m in \u001b[0;36m<module>\u001b[0;34m\u001b[0m\n\u001b[1;32m      1\u001b[0m \u001b[0;31m# This is \"inactive\" if the \"ortho_analytic_4b\" asset has not yet been activated; otherwise 'active'\u001b[0m\u001b[0;34m\u001b[0m\u001b[0;34m\u001b[0m\u001b[0m\n\u001b[0;32m----> 2\u001b[0;31m \u001b[0mprint\u001b[0m\u001b[0;34m(\u001b[0m\u001b[0mresult\u001b[0m\u001b[0;34m.\u001b[0m\u001b[0mjson\u001b[0m\u001b[0;34m(\u001b[0m\u001b[0;34m)\u001b[0m\u001b[0;34m[\u001b[0m\u001b[0;34m'ortho_analytic_4b'\u001b[0m\u001b[0;34m]\u001b[0m\u001b[0;34m[\u001b[0m\u001b[0;34m'status'\u001b[0m\u001b[0;34m]\u001b[0m\u001b[0;34m)\u001b[0m\u001b[0;34m\u001b[0m\u001b[0;34m\u001b[0m\u001b[0m\n\u001b[0m",
      "\u001b[0;31mKeyError\u001b[0m: 'ortho_analytic_4b'"
     ]
    }
   ],
   "source": [
    "# This is \"inactive\" if the \"ortho_analytic_4b\" asset has not yet been activated; otherwise 'active'\n",
    "print(result.json()['ortho_analytic_4b']['status'])"
   ]
  }
 ],
 "metadata": {
  "kernelspec": {
   "display_name": "Python 3 (ipykernel)",
   "language": "python",
   "name": "python3"
  },
  "language_info": {
   "codemirror_mode": {
    "name": "ipython",
    "version": 3
   },
   "file_extension": ".py",
   "mimetype": "text/x-python",
   "name": "python",
   "nbconvert_exporter": "python",
   "pygments_lexer": "ipython3",
   "version": "3.10.12"
  }
 },
 "nbformat": 4,
 "nbformat_minor": 5
}
